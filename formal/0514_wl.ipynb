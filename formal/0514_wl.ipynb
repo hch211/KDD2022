{
 "cells": [
  {
   "cell_type": "code",
   "execution_count": 1,
   "id": "644819bb",
   "metadata": {},
   "outputs": [],
   "source": [
    "import os\n",
    "import gc\n",
    "import time\n",
    "import math\n",
    "import datetime\n",
    "from math import log, floor\n",
    "from sklearn.neighbors import KDTree\n",
    "import copy\n",
    "\n",
    "import numpy as np\n",
    "import modin.pandas as pd\n",
    "from pathlib import Path\n",
    "from sklearn.utils import shuffle\n",
    "from sklearn.metrics import mean_squared_error, mean_absolute_error\n",
    "from tqdm.notebook import tqdm as tqdm\n",
    "from scipy.signal import find_peaks\n",
    "\n",
    "import seaborn as sns\n",
    "from matplotlib import colors\n",
    "import matplotlib.pyplot as plt\n",
    "from matplotlib.colors import Normalize"
   ]
  },
  {
   "cell_type": "code",
   "execution_count": 2,
   "id": "523de452",
   "metadata": {},
   "outputs": [],
   "source": [
    "from lightgbm import LGBMRegressor\n",
    "import lightgbm as lgb\n",
    "from sklearn.model_selection import GridSearchCV"
   ]
  },
  {
   "cell_type": "code",
   "execution_count": 3,
   "id": "6945f379",
   "metadata": {},
   "outputs": [
    {
     "name": "stderr",
     "output_type": "stream",
     "text": [
      "UserWarning: Ray execution environment not yet initialized. Initializing...\n",
      "To remove this warning, run the following python code before doing dataframe operations:\n",
      "\n",
      "    import ray\n",
      "    ray.init()\n",
      "\n",
      "UserWarning: The size of /dev/shm is too small (66509885440 bytes). The required size at least half of RAM (270213416960 bytes). Please, delete files in /dev/shm or increase size of /dev/shm with --shm-size in Docker. Also, you can set the required memory size for each Ray worker in bytes to MODIN_MEMORY environment variable.\n"
     ]
    }
   ],
   "source": [
    "data = pd.read_csv('wtbdata_245days.csv')"
   ]
  },
  {
   "cell_type": "code",
   "execution_count": 4,
   "id": "331c3ea0",
   "metadata": {},
   "outputs": [],
   "source": [
    "data = data[(data['Patv'].notnull()) & (data['Day']>180)]"
   ]
  },
  {
   "cell_type": "code",
   "execution_count": 5,
   "id": "a953de7c",
   "metadata": {},
   "outputs": [],
   "source": [
    "def lag_feature(data, feat_columns, li):    \n",
    "    # 在对应的位置设置lag列\n",
    "    for shift_num in li:\n",
    "        temp_data = data.groupby(['TurbID'])[feat_columns].shift(shift_num)\n",
    "        temp_data.columns=[i+\"_lag_\"+str(shift_num) for i in feat_columns]\n",
    "        data = pd.concat([data,temp_data],axis=1)\n",
    "    return data "
   ]
  },
  {
   "cell_type": "code",
   "execution_count": 6,
   "id": "2f48c54f",
   "metadata": {},
   "outputs": [],
   "source": [
    "def dataset_split(data):\n",
    "    if 'Tmstamp' in data.columns.tolist():\n",
    "        data = data.drop('Tmstamp',axis=1)\n",
    "        \n",
    "    train_data = data[lambda x: x.time_idx < 34993]\n",
    "    val_data = data[(data.time_idx>=30816) & (data.time_idx < 34993)]\n",
    "    test_data = data[lambda x: x.time_idx >= 34993]\n",
    "\n",
    "    train_feat = train_data.drop('Patv',axis=1)\n",
    "    train_label = train_data['Patv']\n",
    "    val_feat = val_data.drop('Patv',axis=1)\n",
    "    val_label = val_data['Patv']\n",
    "    test_feat = test_data.drop('Patv',axis=1)\n",
    "    test_label = test_data['Patv']\n",
    "    test_individual_feat = []\n",
    "    test_individual_label = []\n",
    "    for i in range(data.TurbID.nunique()):\n",
    "        tmp = test_data.drop('Patv',axis=1).loc[data['TurbID'] == i+1]\n",
    "        tmp.columns = list(range(len(tmp.columns.tolist())))\n",
    "        test_individual_feat.append(tmp)\n",
    "        test_individual_label.append(test_data['Patv'].loc[data['TurbID'] == i+1])\n",
    "    \n",
    "    # 为了处理tsfresh的特殊符号列名，直接将所有列名写成数字\n",
    "#     train_feat.columns = list(range(len(train_feat.columns.tolist())))\n",
    "#     test_feat.columns = list(range(len(test_feat.columns.tolist())))\n",
    "    \n",
    "    return train_feat, train_label, val_feat, val_label, test_feat, test_label, test_individual_feat, test_individual_label"
   ]
  },
  {
   "cell_type": "code",
   "execution_count": 7,
   "id": "529be480",
   "metadata": {},
   "outputs": [],
   "source": [
    "def lgb_test_new(gbm, data, test_feat, test_label, show=False):\n",
    "    y_pred = gbm.predict(test_feat)\n",
    "    patv_min = min(data.Patv)\n",
    "    patv_max = max(data.Patv)\n",
    "    for i in range(len(y_pred)):\n",
    "        if y_pred[i] < 0:\n",
    "            y_pred[i] = 0\n",
    "        if y_pred[i] > patv_max:\n",
    "            y_pred[i] = patv_max\n",
    "\n",
    "    y_pred_clear = []\n",
    "    test_label_clear = []\n",
    "    for i in range(len(y_pred)):\n",
    "#         if not (test_label.values[i] <= 0):\n",
    "        y_pred_clear.append(y_pred[i])\n",
    "        test_label_clear.append(test_label.values[i])\n",
    "    \n",
    "    \n",
    "    # 模型评估\n",
    "#     print('The rmse of prediction is:', mean_squared_error(test_label, y_pred) ** 0.5)\n",
    "    pred_rmse = mean_squared_error(test_label_clear, y_pred_clear) ** 0.5\n",
    "    print('The rmse of prediction is:', pred_rmse)\n",
    "\n",
    "    # 模型评估\n",
    "    pred_mae = mean_absolute_error(test_label_clear, y_pred_clear)\n",
    "    print('The mae of prediction is:', pred_mae)\n",
    "\n",
    "    # 特征重要度\n",
    "#     print('{}\\nFeature importances:{}'.format([column for column in test_feat], list(gbm.feature_importances_)))\n",
    "    \n",
    "    \n",
    "    if show == True:\n",
    "        plt.figure(figsize=(20,5))\n",
    "        plt.plot(range(len(y_pred_clear)), y_pred_clear, label='pred')\n",
    "        plt.plot(range(len(test_label_clear)), test_label_clear, label='label')\n",
    "        plt.legend()\n",
    "        plt.show()\n",
    "    \n",
    "    return y_pred_clear,pred_rmse,pred_mae"
   ]
  },
  {
   "cell_type": "code",
   "execution_count": 8,
   "id": "ac7031b0",
   "metadata": {},
   "outputs": [],
   "source": [
    "def get_test_feat(test_feat,test_label,time_idx):\n",
    "    indexNames=test_feat[test_feat['time_idx'] !=time_idx].index\n",
    "#     print(indexNames)\n",
    "    test_feat = test_feat.drop(indexNames)\n",
    "    test_label= test_label.drop(indexNames)\n",
    "    return test_feat,test_label"
   ]
  },
  {
   "cell_type": "code",
   "execution_count": 9,
   "id": "c1349d24",
   "metadata": {},
   "outputs": [],
   "source": [
    "def lag_insert(test_feat, num,index_list): #构造test集函数\n",
    "    \n",
    "    for j in range(1,num+1):\n",
    "        \n",
    "        time_idx_list = [m for m in range(34993,34993+j)]\n",
    "\n",
    "        print(time_idx_list)\n",
    "\n",
    "        feature_list = test_feat.columns[4+j -1:4+j]\n",
    "        print(feature_list)\n",
    "\n",
    "\n",
    "        for i in range(len(index_list)):\n",
    "            for feature in feature_list:\n",
    "                if test_feat.loc[index_list[i],'time_idx'] in time_idx_list:\n",
    "                    test_feat.loc[index_list[i],feature] = data.loc[index_list[i]-j,'Patv']\n",
    "\n",
    "                else:\n",
    "                    test_feat.loc[index_list[i],feature] = np.nan\n",
    "\n",
    "    return test_feat"
   ]
  },
  {
   "cell_type": "code",
   "execution_count": 10,
   "id": "43168123",
   "metadata": {},
   "outputs": [],
   "source": [
    "def round_pred(gbm1,test_feat,test_label,pred_1,pred_list,rmse_list,mae_list,index_list): #循环预测函数\n",
    "    \n",
    "    for i in range(34994,34994+287):\n",
    "        feature_list = test_feat.columns[4:]\n",
    "        flag = 0\n",
    "        for j in range(len(index_list)): #用预测的值填充lag1-n\n",
    "\n",
    "            if test_feat.loc[index_list[j],'time_idx'] == i:\n",
    "\n",
    "                for f in range(len(feature_list)):\n",
    "\n",
    "                    if (index_list[j]+f) in index_list: #边界条件判断是否溢出\n",
    "\n",
    "    #                     print(index_list[j]+flag)\n",
    "                        test_feat.loc[index_list[j]+f,feature_list[f]] = pred_1[flag]\n",
    "\n",
    "                flag += 1\n",
    "#     print(exp_feat)\n",
    "#     break;\n",
    "        real_test_feat,real_test_label = get_test_feat(test_feat,test_label,i)\n",
    "        print('predict:{}/288'.format(i-34993+1))\n",
    "        pred_1,pred_rmse,pred_mae = lgb_test_new(gbm1, data, real_test_feat, real_test_label)\n",
    "        print('----------------------------')\n",
    "        pred_list.extend(pred_1)\n",
    "        rmse_list.append(pred_rmse)\n",
    "        mae_list.append(pred_mae)\n",
    "    return pred_list,rmse_list,mae_list"
   ]
  },
  {
   "cell_type": "code",
   "execution_count": 11,
   "id": "3fe1ecae",
   "metadata": {},
   "outputs": [],
   "source": [
    "lag_n = 50"
   ]
  },
  {
   "cell_type": "markdown",
   "id": "4a2ac6d6",
   "metadata": {},
   "source": [
    "# no_label feature_lag"
   ]
  },
  {
   "cell_type": "code",
   "execution_count": 12,
   "id": "9a635fc0",
   "metadata": {},
   "outputs": [
    {
     "ename": "KeyboardInterrupt",
     "evalue": "",
     "output_type": "error",
     "traceback": [
      "\u001b[0;31m---------------------------------------------------------------------------\u001b[0m",
      "\u001b[0;31mKeyboardInterrupt\u001b[0m                         Traceback (most recent call last)",
      "\u001b[0;32m<ipython-input-12-0f8ce51896b6>\u001b[0m in \u001b[0;36m<module>\u001b[0;34m\u001b[0m\n\u001b[1;32m      1\u001b[0m \u001b[0mfeat_columns\u001b[0m \u001b[0;34m=\u001b[0m \u001b[0;34m[\u001b[0m\u001b[0;34m'Wspd'\u001b[0m\u001b[0;34m,\u001b[0m\u001b[0;34m'Wdir'\u001b[0m\u001b[0;34m,\u001b[0m\u001b[0;34m'Etmp'\u001b[0m\u001b[0;34m,\u001b[0m\u001b[0;34m'Itmp'\u001b[0m\u001b[0;34m,\u001b[0m\u001b[0;34m'Ndir'\u001b[0m\u001b[0;34m,\u001b[0m\u001b[0;34m'Pab1'\u001b[0m\u001b[0;34m,\u001b[0m\u001b[0;34m'Pab2'\u001b[0m\u001b[0;34m,\u001b[0m\u001b[0;34m'Pab3'\u001b[0m\u001b[0;34m,\u001b[0m\u001b[0;34m'Prtv'\u001b[0m\u001b[0;34m]\u001b[0m\u001b[0;34m\u001b[0m\u001b[0;34m\u001b[0m\u001b[0m\n\u001b[1;32m      2\u001b[0m \u001b[0mli\u001b[0m \u001b[0;34m=\u001b[0m \u001b[0;34m[\u001b[0m\u001b[0mi\u001b[0m \u001b[0;32mfor\u001b[0m \u001b[0mi\u001b[0m \u001b[0;32min\u001b[0m \u001b[0mrange\u001b[0m\u001b[0;34m(\u001b[0m\u001b[0;36m288\u001b[0m\u001b[0;34m,\u001b[0m\u001b[0;36m288\u001b[0m\u001b[0;34m+\u001b[0m\u001b[0mlag_n\u001b[0m\u001b[0;34m)\u001b[0m\u001b[0;34m]\u001b[0m\u001b[0;34m\u001b[0m\u001b[0;34m\u001b[0m\u001b[0m\n\u001b[0;32m----> 3\u001b[0;31m \u001b[0mdata_lag1\u001b[0m \u001b[0;34m=\u001b[0m \u001b[0mlag_feature\u001b[0m\u001b[0;34m(\u001b[0m\u001b[0mdata\u001b[0m\u001b[0;34m,\u001b[0m \u001b[0mfeat_columns\u001b[0m\u001b[0;34m,\u001b[0m \u001b[0mli\u001b[0m\u001b[0;34m)\u001b[0m\u001b[0;34m\u001b[0m\u001b[0;34m\u001b[0m\u001b[0m\n\u001b[0m\u001b[1;32m      4\u001b[0m \u001b[0mdata_lag1\u001b[0m \u001b[0;34m=\u001b[0m \u001b[0mdata_lag1\u001b[0m\u001b[0;34m[\u001b[0m\u001b[0mdata_lag1\u001b[0m\u001b[0;34m[\u001b[0m\u001b[0;34m'Prtv_lag_{}'\u001b[0m\u001b[0;34m.\u001b[0m\u001b[0mformat\u001b[0m\u001b[0;34m(\u001b[0m\u001b[0;36m288\u001b[0m\u001b[0;34m+\u001b[0m\u001b[0mlag_n\u001b[0m\u001b[0;34m-\u001b[0m\u001b[0;36m1\u001b[0m\u001b[0;34m)\u001b[0m\u001b[0;34m]\u001b[0m\u001b[0;34m.\u001b[0m\u001b[0mnotnull\u001b[0m\u001b[0;34m(\u001b[0m\u001b[0;34m)\u001b[0m\u001b[0;34m]\u001b[0m\u001b[0;34m\u001b[0m\u001b[0;34m\u001b[0m\u001b[0m\n",
      "\u001b[0;32m<ipython-input-5-27c72badda73>\u001b[0m in \u001b[0;36mlag_feature\u001b[0;34m(data, feat_columns, li)\u001b[0m\n\u001b[1;32m      2\u001b[0m     \u001b[0;31m# 在对应的位置设置lag列\u001b[0m\u001b[0;34m\u001b[0m\u001b[0;34m\u001b[0m\u001b[0;34m\u001b[0m\u001b[0m\n\u001b[1;32m      3\u001b[0m     \u001b[0;32mfor\u001b[0m \u001b[0mshift_num\u001b[0m \u001b[0;32min\u001b[0m \u001b[0mli\u001b[0m\u001b[0;34m:\u001b[0m\u001b[0;34m\u001b[0m\u001b[0;34m\u001b[0m\u001b[0m\n\u001b[0;32m----> 4\u001b[0;31m         \u001b[0mtemp_data\u001b[0m \u001b[0;34m=\u001b[0m \u001b[0mdata\u001b[0m\u001b[0;34m.\u001b[0m\u001b[0mgroupby\u001b[0m\u001b[0;34m(\u001b[0m\u001b[0;34m[\u001b[0m\u001b[0;34m'TurbID'\u001b[0m\u001b[0;34m]\u001b[0m\u001b[0;34m)\u001b[0m\u001b[0;34m[\u001b[0m\u001b[0mfeat_columns\u001b[0m\u001b[0;34m]\u001b[0m\u001b[0;34m.\u001b[0m\u001b[0mshift\u001b[0m\u001b[0;34m(\u001b[0m\u001b[0mshift_num\u001b[0m\u001b[0;34m)\u001b[0m\u001b[0;34m\u001b[0m\u001b[0;34m\u001b[0m\u001b[0m\n\u001b[0m\u001b[1;32m      5\u001b[0m         \u001b[0mtemp_data\u001b[0m\u001b[0;34m.\u001b[0m\u001b[0mcolumns\u001b[0m\u001b[0;34m=\u001b[0m\u001b[0;34m[\u001b[0m\u001b[0mi\u001b[0m\u001b[0;34m+\u001b[0m\u001b[0;34m\"_lag_\"\u001b[0m\u001b[0;34m+\u001b[0m\u001b[0mstr\u001b[0m\u001b[0;34m(\u001b[0m\u001b[0mshift_num\u001b[0m\u001b[0;34m)\u001b[0m \u001b[0;32mfor\u001b[0m \u001b[0mi\u001b[0m \u001b[0;32min\u001b[0m \u001b[0mfeat_columns\u001b[0m\u001b[0;34m]\u001b[0m\u001b[0;34m\u001b[0m\u001b[0;34m\u001b[0m\u001b[0m\n\u001b[1;32m      6\u001b[0m         \u001b[0mdata\u001b[0m \u001b[0;34m=\u001b[0m \u001b[0mpd\u001b[0m\u001b[0;34m.\u001b[0m\u001b[0mconcat\u001b[0m\u001b[0;34m(\u001b[0m\u001b[0;34m[\u001b[0m\u001b[0mdata\u001b[0m\u001b[0;34m,\u001b[0m\u001b[0mtemp_data\u001b[0m\u001b[0;34m]\u001b[0m\u001b[0;34m,\u001b[0m\u001b[0maxis\u001b[0m\u001b[0;34m=\u001b[0m\u001b[0;36m1\u001b[0m\u001b[0;34m)\u001b[0m\u001b[0;34m\u001b[0m\u001b[0;34m\u001b[0m\u001b[0m\n",
      "\u001b[0;32m/opt/conda/lib/python3.7/site-packages/modin/pandas/groupby.py\u001b[0m in \u001b[0;36mshift\u001b[0;34m(self, periods, freq, axis, fill_value)\u001b[0m\n\u001b[1;32m    251\u001b[0m         \u001b[0;32melse\u001b[0m\u001b[0;34m:\u001b[0m\u001b[0;34m\u001b[0m\u001b[0;34m\u001b[0m\u001b[0m\n\u001b[1;32m    252\u001b[0m             result = self._apply_agg_function_check_index_name(\n\u001b[0;32m--> 253\u001b[0;31m                 \u001b[0;32mlambda\u001b[0m \u001b[0mdf\u001b[0m\u001b[0;34m:\u001b[0m \u001b[0mdf\u001b[0m\u001b[0;34m.\u001b[0m\u001b[0mshift\u001b[0m\u001b[0;34m(\u001b[0m\u001b[0mperiods\u001b[0m\u001b[0;34m,\u001b[0m \u001b[0mfreq\u001b[0m\u001b[0;34m,\u001b[0m \u001b[0maxis\u001b[0m\u001b[0;34m,\u001b[0m \u001b[0mfill_value\u001b[0m\u001b[0;34m)\u001b[0m\u001b[0;34m\u001b[0m\u001b[0;34m\u001b[0m\u001b[0m\n\u001b[0m\u001b[1;32m    254\u001b[0m             )\n\u001b[1;32m    255\u001b[0m         \u001b[0;32mreturn\u001b[0m \u001b[0mresult\u001b[0m\u001b[0;34m\u001b[0m\u001b[0;34m\u001b[0m\u001b[0m\n",
      "\u001b[0;32m/opt/conda/lib/python3.7/site-packages/modin/pandas/groupby.py\u001b[0m in \u001b[0;36m_apply_agg_function_check_index_name\u001b[0;34m(self, *args, **kwargs)\u001b[0m\n\u001b[1;32m   1006\u001b[0m         \u001b[0mDataFrame\u001b[0m\u001b[0;34m\u001b[0m\u001b[0;34m\u001b[0m\u001b[0m\n\u001b[1;32m   1007\u001b[0m         \"\"\"\n\u001b[0;32m-> 1008\u001b[0;31m         \u001b[0mresult\u001b[0m \u001b[0;34m=\u001b[0m \u001b[0mself\u001b[0m\u001b[0;34m.\u001b[0m\u001b[0m_apply_agg_function\u001b[0m\u001b[0;34m(\u001b[0m\u001b[0;34m*\u001b[0m\u001b[0margs\u001b[0m\u001b[0;34m,\u001b[0m \u001b[0;34m**\u001b[0m\u001b[0mkwargs\u001b[0m\u001b[0;34m)\u001b[0m\u001b[0;34m\u001b[0m\u001b[0;34m\u001b[0m\u001b[0m\n\u001b[0m\u001b[1;32m   1009\u001b[0m         \u001b[0;32mif\u001b[0m \u001b[0mself\u001b[0m\u001b[0;34m.\u001b[0m\u001b[0m_by\u001b[0m \u001b[0;32mis\u001b[0m \u001b[0;32mnot\u001b[0m \u001b[0;32mNone\u001b[0m\u001b[0;34m:\u001b[0m\u001b[0;34m\u001b[0m\u001b[0;34m\u001b[0m\u001b[0m\n\u001b[1;32m   1010\u001b[0m             \u001b[0;31m# pandas does not name the index for this case\u001b[0m\u001b[0;34m\u001b[0m\u001b[0;34m\u001b[0m\u001b[0;34m\u001b[0m\u001b[0m\n",
      "\u001b[0;32m/opt/conda/lib/python3.7/site-packages/modin/pandas/groupby.py\u001b[0m in \u001b[0;36m_apply_agg_function\u001b[0;34m(self, f, *args, **kwargs)\u001b[0m\n\u001b[1;32m   1042\u001b[0m             \u001b[0magg_kwargs\u001b[0m\u001b[0;34m=\u001b[0m\u001b[0mkwargs\u001b[0m\u001b[0;34m,\u001b[0m\u001b[0;34m\u001b[0m\u001b[0;34m\u001b[0m\u001b[0m\n\u001b[1;32m   1043\u001b[0m             \u001b[0mgroupby_kwargs\u001b[0m\u001b[0;34m=\u001b[0m\u001b[0mself\u001b[0m\u001b[0;34m.\u001b[0m\u001b[0m_kwargs\u001b[0m\u001b[0;34m,\u001b[0m\u001b[0;34m\u001b[0m\u001b[0;34m\u001b[0m\u001b[0m\n\u001b[0;32m-> 1044\u001b[0;31m             \u001b[0mdrop\u001b[0m\u001b[0;34m=\u001b[0m\u001b[0mself\u001b[0m\u001b[0;34m.\u001b[0m\u001b[0m_drop\u001b[0m\u001b[0;34m,\u001b[0m\u001b[0;34m\u001b[0m\u001b[0;34m\u001b[0m\u001b[0m\n\u001b[0m\u001b[1;32m   1045\u001b[0m         )\n\u001b[1;32m   1046\u001b[0m         \u001b[0;32mif\u001b[0m \u001b[0mself\u001b[0m\u001b[0;34m.\u001b[0m\u001b[0m_idx_name\u001b[0m \u001b[0;32mis\u001b[0m \u001b[0;32mnot\u001b[0m \u001b[0;32mNone\u001b[0m \u001b[0;32mand\u001b[0m \u001b[0mself\u001b[0m\u001b[0;34m.\u001b[0m\u001b[0m_as_index\u001b[0m\u001b[0;34m:\u001b[0m\u001b[0;34m\u001b[0m\u001b[0;34m\u001b[0m\u001b[0m\n",
      "\u001b[0;32m/opt/conda/lib/python3.7/site-packages/modin/core/storage_formats/pandas/query_compiler.py\u001b[0m in \u001b[0;36mgroupby_agg\u001b[0;34m(self, by, is_multi_by, axis, agg_func, agg_args, agg_kwargs, groupby_kwargs, drop)\u001b[0m\n\u001b[1;32m   2809\u001b[0m             \u001b[0mother\u001b[0m\u001b[0;34m=\u001b[0m\u001b[0mbroadcastable_by\u001b[0m\u001b[0;34m,\u001b[0m\u001b[0;34m\u001b[0m\u001b[0;34m\u001b[0m\u001b[0m\n\u001b[1;32m   2810\u001b[0m             \u001b[0mapply_indices\u001b[0m\u001b[0;34m=\u001b[0m\u001b[0mapply_indices\u001b[0m\u001b[0;34m,\u001b[0m\u001b[0;34m\u001b[0m\u001b[0;34m\u001b[0m\u001b[0m\n\u001b[0;32m-> 2811\u001b[0;31m             \u001b[0menumerate_partitions\u001b[0m\u001b[0;34m=\u001b[0m\u001b[0;32mTrue\u001b[0m\u001b[0;34m,\u001b[0m\u001b[0;34m\u001b[0m\u001b[0;34m\u001b[0m\u001b[0m\n\u001b[0m\u001b[1;32m   2812\u001b[0m         )\n\u001b[1;32m   2813\u001b[0m         \u001b[0mresult\u001b[0m \u001b[0;34m=\u001b[0m \u001b[0mself\u001b[0m\u001b[0;34m.\u001b[0m\u001b[0m__constructor__\u001b[0m\u001b[0;34m(\u001b[0m\u001b[0mnew_modin_frame\u001b[0m\u001b[0;34m)\u001b[0m\u001b[0;34m\u001b[0m\u001b[0;34m\u001b[0m\u001b[0m\n",
      "\u001b[0;32m/opt/conda/lib/python3.7/site-packages/modin/core/dataframe/pandas/dataframe/dataframe.py\u001b[0m in \u001b[0;36mbroadcast_apply_full_axis\u001b[0;34m(self, axis, func, other, new_index, new_columns, apply_indices, enumerate_partitions, dtypes)\u001b[0m\n\u001b[1;32m   1876\u001b[0m             \u001b[0;32mif\u001b[0m \u001b[0mnew_axis\u001b[0m \u001b[0;32mis\u001b[0m \u001b[0;32mNone\u001b[0m\u001b[0;34m\u001b[0m\u001b[0;34m\u001b[0m\u001b[0m\n\u001b[1;32m   1877\u001b[0m             \u001b[0;32melse\u001b[0m \u001b[0mnew_axis\u001b[0m\u001b[0;34m\u001b[0m\u001b[0;34m\u001b[0m\u001b[0m\n\u001b[0;32m-> 1878\u001b[0;31m             \u001b[0;32mfor\u001b[0m \u001b[0mi\u001b[0m\u001b[0;34m,\u001b[0m \u001b[0mnew_axis\u001b[0m \u001b[0;32min\u001b[0m \u001b[0menumerate\u001b[0m\u001b[0;34m(\u001b[0m\u001b[0;34m[\u001b[0m\u001b[0mnew_index\u001b[0m\u001b[0;34m,\u001b[0m \u001b[0mnew_columns\u001b[0m\u001b[0;34m]\u001b[0m\u001b[0;34m)\u001b[0m\u001b[0;34m\u001b[0m\u001b[0;34m\u001b[0m\u001b[0m\n\u001b[0m\u001b[1;32m   1879\u001b[0m         ]\n\u001b[1;32m   1880\u001b[0m         \u001b[0;32mif\u001b[0m \u001b[0mdtypes\u001b[0m \u001b[0;34m==\u001b[0m \u001b[0;34m\"copy\"\u001b[0m\u001b[0;34m:\u001b[0m\u001b[0;34m\u001b[0m\u001b[0;34m\u001b[0m\u001b[0m\n",
      "\u001b[0;32m/opt/conda/lib/python3.7/site-packages/modin/core/dataframe/pandas/dataframe/dataframe.py\u001b[0m in \u001b[0;36m<listcomp>\u001b[0;34m(.0)\u001b[0m\n\u001b[1;32m   1876\u001b[0m             \u001b[0;32mif\u001b[0m \u001b[0mnew_axis\u001b[0m \u001b[0;32mis\u001b[0m \u001b[0;32mNone\u001b[0m\u001b[0;34m\u001b[0m\u001b[0;34m\u001b[0m\u001b[0m\n\u001b[1;32m   1877\u001b[0m             \u001b[0;32melse\u001b[0m \u001b[0mnew_axis\u001b[0m\u001b[0;34m\u001b[0m\u001b[0;34m\u001b[0m\u001b[0m\n\u001b[0;32m-> 1878\u001b[0;31m             \u001b[0;32mfor\u001b[0m \u001b[0mi\u001b[0m\u001b[0;34m,\u001b[0m \u001b[0mnew_axis\u001b[0m \u001b[0;32min\u001b[0m \u001b[0menumerate\u001b[0m\u001b[0;34m(\u001b[0m\u001b[0;34m[\u001b[0m\u001b[0mnew_index\u001b[0m\u001b[0;34m,\u001b[0m \u001b[0mnew_columns\u001b[0m\u001b[0;34m]\u001b[0m\u001b[0;34m)\u001b[0m\u001b[0;34m\u001b[0m\u001b[0;34m\u001b[0m\u001b[0m\n\u001b[0m\u001b[1;32m   1879\u001b[0m         ]\n\u001b[1;32m   1880\u001b[0m         \u001b[0;32mif\u001b[0m \u001b[0mdtypes\u001b[0m \u001b[0;34m==\u001b[0m \u001b[0;34m\"copy\"\u001b[0m\u001b[0;34m:\u001b[0m\u001b[0;34m\u001b[0m\u001b[0;34m\u001b[0m\u001b[0m\n",
      "\u001b[0;32m/opt/conda/lib/python3.7/site-packages/modin/core/dataframe/pandas/dataframe/dataframe.py\u001b[0m in \u001b[0;36m_compute_axis_labels\u001b[0;34m(self, axis, partitions)\u001b[0m\n\u001b[1;32m    309\u001b[0m             \u001b[0mpartitions\u001b[0m \u001b[0;34m=\u001b[0m \u001b[0mself\u001b[0m\u001b[0;34m.\u001b[0m\u001b[0m_partitions\u001b[0m\u001b[0;34m\u001b[0m\u001b[0;34m\u001b[0m\u001b[0m\n\u001b[1;32m    310\u001b[0m         return self._partition_mgr_cls.get_indices(\n\u001b[0;32m--> 311\u001b[0;31m             \u001b[0maxis\u001b[0m\u001b[0;34m,\u001b[0m \u001b[0mpartitions\u001b[0m\u001b[0;34m,\u001b[0m \u001b[0;32mlambda\u001b[0m \u001b[0mdf\u001b[0m\u001b[0;34m:\u001b[0m \u001b[0mdf\u001b[0m\u001b[0;34m.\u001b[0m\u001b[0maxes\u001b[0m\u001b[0;34m[\u001b[0m\u001b[0maxis\u001b[0m\u001b[0;34m]\u001b[0m\u001b[0;34m\u001b[0m\u001b[0;34m\u001b[0m\u001b[0m\n\u001b[0m\u001b[1;32m    312\u001b[0m         )\n\u001b[1;32m    313\u001b[0m \u001b[0;34m\u001b[0m\u001b[0m\n",
      "\u001b[0;32m/opt/conda/lib/python3.7/site-packages/modin/core/execution/ray/implementations/pandas_on_ray/partitioning/partition_manager.py\u001b[0m in \u001b[0;36mget_indices\u001b[0;34m(cls, axis, partitions, index_func)\u001b[0m\n\u001b[1;32m    135\u001b[0m                 \u001b[0;32melse\u001b[0m \u001b[0;34m[\u001b[0m\u001b[0;34m]\u001b[0m\u001b[0;34m\u001b[0m\u001b[0;34m\u001b[0m\u001b[0m\n\u001b[1;32m    136\u001b[0m             )\n\u001b[0;32m--> 137\u001b[0;31m         \u001b[0mnew_idx\u001b[0m \u001b[0;34m=\u001b[0m \u001b[0mray\u001b[0m\u001b[0;34m.\u001b[0m\u001b[0mget\u001b[0m\u001b[0;34m(\u001b[0m\u001b[0mnew_idx\u001b[0m\u001b[0;34m)\u001b[0m\u001b[0;34m\u001b[0m\u001b[0;34m\u001b[0m\u001b[0m\n\u001b[0m\u001b[1;32m    138\u001b[0m         \u001b[0;32mreturn\u001b[0m \u001b[0mnew_idx\u001b[0m\u001b[0;34m[\u001b[0m\u001b[0;36m0\u001b[0m\u001b[0;34m]\u001b[0m\u001b[0;34m.\u001b[0m\u001b[0mappend\u001b[0m\u001b[0;34m(\u001b[0m\u001b[0mnew_idx\u001b[0m\u001b[0;34m[\u001b[0m\u001b[0;36m1\u001b[0m\u001b[0;34m:\u001b[0m\u001b[0;34m]\u001b[0m\u001b[0;34m)\u001b[0m \u001b[0;32mif\u001b[0m \u001b[0mlen\u001b[0m\u001b[0;34m(\u001b[0m\u001b[0mnew_idx\u001b[0m\u001b[0;34m)\u001b[0m \u001b[0;32melse\u001b[0m \u001b[0mnew_idx\u001b[0m\u001b[0;34m\u001b[0m\u001b[0;34m\u001b[0m\u001b[0m\n\u001b[1;32m    139\u001b[0m \u001b[0;34m\u001b[0m\u001b[0m\n",
      "\u001b[0;32m/opt/conda/lib/python3.7/site-packages/ray/_private/client_mode_hook.py\u001b[0m in \u001b[0;36mwrapper\u001b[0;34m(*args, **kwargs)\u001b[0m\n\u001b[1;32m    103\u001b[0m             \u001b[0;32mif\u001b[0m \u001b[0mfunc\u001b[0m\u001b[0;34m.\u001b[0m\u001b[0m__name__\u001b[0m \u001b[0;34m!=\u001b[0m \u001b[0;34m\"init\"\u001b[0m \u001b[0;32mor\u001b[0m \u001b[0mis_client_mode_enabled_by_default\u001b[0m\u001b[0;34m:\u001b[0m\u001b[0;34m\u001b[0m\u001b[0;34m\u001b[0m\u001b[0m\n\u001b[1;32m    104\u001b[0m                 \u001b[0;32mreturn\u001b[0m \u001b[0mgetattr\u001b[0m\u001b[0;34m(\u001b[0m\u001b[0mray\u001b[0m\u001b[0;34m,\u001b[0m \u001b[0mfunc\u001b[0m\u001b[0;34m.\u001b[0m\u001b[0m__name__\u001b[0m\u001b[0;34m)\u001b[0m\u001b[0;34m(\u001b[0m\u001b[0;34m*\u001b[0m\u001b[0margs\u001b[0m\u001b[0;34m,\u001b[0m \u001b[0;34m**\u001b[0m\u001b[0mkwargs\u001b[0m\u001b[0;34m)\u001b[0m\u001b[0;34m\u001b[0m\u001b[0;34m\u001b[0m\u001b[0m\n\u001b[0;32m--> 105\u001b[0;31m         \u001b[0;32mreturn\u001b[0m \u001b[0mfunc\u001b[0m\u001b[0;34m(\u001b[0m\u001b[0;34m*\u001b[0m\u001b[0margs\u001b[0m\u001b[0;34m,\u001b[0m \u001b[0;34m**\u001b[0m\u001b[0mkwargs\u001b[0m\u001b[0;34m)\u001b[0m\u001b[0;34m\u001b[0m\u001b[0;34m\u001b[0m\u001b[0m\n\u001b[0m\u001b[1;32m    106\u001b[0m \u001b[0;34m\u001b[0m\u001b[0m\n\u001b[1;32m    107\u001b[0m     \u001b[0;32mreturn\u001b[0m \u001b[0mwrapper\u001b[0m\u001b[0;34m\u001b[0m\u001b[0;34m\u001b[0m\u001b[0m\n",
      "\u001b[0;32m/opt/conda/lib/python3.7/site-packages/ray/worker.py\u001b[0m in \u001b[0;36mget\u001b[0;34m(object_refs, timeout)\u001b[0m\n\u001b[1;32m   1801\u001b[0m \u001b[0;34m\u001b[0m\u001b[0m\n\u001b[1;32m   1802\u001b[0m         \u001b[0;31m# TODO(ujvl): Consider how to allow user to retrieve the ready objects.\u001b[0m\u001b[0;34m\u001b[0m\u001b[0;34m\u001b[0m\u001b[0;34m\u001b[0m\u001b[0m\n\u001b[0;32m-> 1803\u001b[0;31m         \u001b[0mvalues\u001b[0m\u001b[0;34m,\u001b[0m \u001b[0mdebugger_breakpoint\u001b[0m \u001b[0;34m=\u001b[0m \u001b[0mworker\u001b[0m\u001b[0;34m.\u001b[0m\u001b[0mget_objects\u001b[0m\u001b[0;34m(\u001b[0m\u001b[0mobject_refs\u001b[0m\u001b[0;34m,\u001b[0m \u001b[0mtimeout\u001b[0m\u001b[0;34m=\u001b[0m\u001b[0mtimeout\u001b[0m\u001b[0;34m)\u001b[0m\u001b[0;34m\u001b[0m\u001b[0;34m\u001b[0m\u001b[0m\n\u001b[0m\u001b[1;32m   1804\u001b[0m         \u001b[0;32mfor\u001b[0m \u001b[0mi\u001b[0m\u001b[0;34m,\u001b[0m \u001b[0mvalue\u001b[0m \u001b[0;32min\u001b[0m \u001b[0menumerate\u001b[0m\u001b[0;34m(\u001b[0m\u001b[0mvalues\u001b[0m\u001b[0;34m)\u001b[0m\u001b[0;34m:\u001b[0m\u001b[0;34m\u001b[0m\u001b[0;34m\u001b[0m\u001b[0m\n\u001b[1;32m   1805\u001b[0m             \u001b[0;32mif\u001b[0m \u001b[0misinstance\u001b[0m\u001b[0;34m(\u001b[0m\u001b[0mvalue\u001b[0m\u001b[0;34m,\u001b[0m \u001b[0mRayError\u001b[0m\u001b[0;34m)\u001b[0m\u001b[0;34m:\u001b[0m\u001b[0;34m\u001b[0m\u001b[0;34m\u001b[0m\u001b[0m\n",
      "\u001b[0;32m/opt/conda/lib/python3.7/site-packages/ray/worker.py\u001b[0m in \u001b[0;36mget_objects\u001b[0;34m(self, object_refs, timeout)\u001b[0m\n\u001b[1;32m    361\u001b[0m         \u001b[0mtimeout_ms\u001b[0m \u001b[0;34m=\u001b[0m \u001b[0mint\u001b[0m\u001b[0;34m(\u001b[0m\u001b[0mtimeout\u001b[0m \u001b[0;34m*\u001b[0m \u001b[0;36m1000\u001b[0m\u001b[0;34m)\u001b[0m \u001b[0;32mif\u001b[0m \u001b[0mtimeout\u001b[0m \u001b[0;32melse\u001b[0m \u001b[0;34m-\u001b[0m\u001b[0;36m1\u001b[0m\u001b[0;34m\u001b[0m\u001b[0;34m\u001b[0m\u001b[0m\n\u001b[1;32m    362\u001b[0m         data_metadata_pairs = self.core_worker.get_objects(\n\u001b[0;32m--> 363\u001b[0;31m             \u001b[0mobject_refs\u001b[0m\u001b[0;34m,\u001b[0m \u001b[0mself\u001b[0m\u001b[0;34m.\u001b[0m\u001b[0mcurrent_task_id\u001b[0m\u001b[0;34m,\u001b[0m \u001b[0mtimeout_ms\u001b[0m\u001b[0;34m\u001b[0m\u001b[0;34m\u001b[0m\u001b[0m\n\u001b[0m\u001b[1;32m    364\u001b[0m         )\n\u001b[1;32m    365\u001b[0m         \u001b[0mdebugger_breakpoint\u001b[0m \u001b[0;34m=\u001b[0m \u001b[0;34mb\"\"\u001b[0m\u001b[0;34m\u001b[0m\u001b[0;34m\u001b[0m\u001b[0m\n",
      "\u001b[0;31mKeyboardInterrupt\u001b[0m: "
     ]
    }
   ],
   "source": [
    "feat_columns = ['Wspd','Wdir','Etmp','Itmp','Ndir','Pab1','Pab2','Pab3','Prtv']\n",
    "li = [i for i in range(288,288+lag_n)]\n",
    "data_lag1 = lag_feature(data, feat_columns, li)\n",
    "data_lag1 = data_lag1[data_lag1['Prtv_lag_{}'.format(288+lag_n-1)].notnull()]"
   ]
  },
  {
   "cell_type": "markdown",
   "id": "30edc3a2",
   "metadata": {},
   "source": [
    "# label lag"
   ]
  },
  {
   "cell_type": "code",
   "execution_count": 13,
   "id": "33e7dd0b",
   "metadata": {},
   "outputs": [
    {
     "name": "stderr",
     "output_type": "stream",
     "text": [
      "/opt/conda/lib/python3.7/site-packages/pandas/core/generic.py:5516: SettingWithCopyWarning: \n",
      "A value is trying to be set on a copy of a slice from a DataFrame.\n",
      "Try using .loc[row_indexer,col_indexer] = value instead\n",
      "\n",
      "See the caveats in the documentation: https://pandas.pydata.org/pandas-docs/stable/user_guide/indexing.html#returning-a-view-versus-a-copy\n",
      "  self[name] = value\n"
     ]
    }
   ],
   "source": [
    "test_data = data_lag1[data_lag1['Day'].isin([244,245])]\n",
    "real_test_data_patv = test_data.Patv.copy()\n",
    "test_data.Patv = np.nan\n",
    "train_data = data_lag1[data_lag1['Day']<244]\n",
    "data_lag1 = pd.concat([train_data,test_data],axis=0)\n",
    "\n",
    "feat_columns = ['Patv']\n",
    "li = [i for i in range(1,lag_n+1)]\n",
    "data_lag1 = lag_feature(data_lag1, feat_columns, li)\n",
    "\n",
    "data_lag1 = data_lag1.drop(['Wspd','Wdir','Etmp','Itmp','Ndir','Pab1','Pab2','Pab3','Prtv'],axis = 1)"
   ]
  },
  {
   "cell_type": "code",
   "execution_count": 14,
   "id": "a9684ee8",
   "metadata": {},
   "outputs": [],
   "source": [
    "val_data = data_lag1[data_lag1['Day'].isin([243,242])]\n",
    "test_data = data_lag1[data_lag1['Day'].isin([244,245])]\n",
    "train_data = data_lag1[data_lag1['Day']<242]"
   ]
  },
  {
   "cell_type": "code",
   "execution_count": 15,
   "id": "4670f743",
   "metadata": {},
   "outputs": [],
   "source": [
    "test_data.Patv = real_test_data_patv.copy()"
   ]
  },
  {
   "cell_type": "code",
   "execution_count": 16,
   "id": "b4f143a2",
   "metadata": {},
   "outputs": [],
   "source": [
    "test_data = test_data.reset_index(drop=True)"
   ]
  },
  {
   "cell_type": "code",
   "execution_count": 17,
   "id": "3227401b",
   "metadata": {},
   "outputs": [],
   "source": [
    "test_data['time_idx'] = test_data.reset_index().groupby('TurbID')['index'].rank()"
   ]
  },
  {
   "cell_type": "code",
   "execution_count": 18,
   "id": "ad34faec",
   "metadata": {},
   "outputs": [],
   "source": [
    "insert_label = [\"Patv_lag_\"+str(i+1) for i in range(lag_n)]\n",
    "insert_label = insert_label[::-1]"
   ]
  },
  {
   "cell_type": "code",
   "execution_count": 19,
   "id": "16c12b98",
   "metadata": {},
   "outputs": [],
   "source": [
    "use_feat = list(['TurbID']+list(test_data.columns[4:-1]))"
   ]
  },
  {
   "cell_type": "code",
   "execution_count": 20,
   "id": "5bf47c17",
   "metadata": {},
   "outputs": [],
   "source": [
    "unchange_data = [i for i in use_feat if i not in insert_label]"
   ]
  },
  {
   "cell_type": "code",
   "execution_count": 21,
   "id": "9a43546d",
   "metadata": {},
   "outputs": [],
   "source": [
    "train_data = train_data[train_data['Patv_lag_{}'.format(lag_n)].notnull()]#[use_feat]"
   ]
  },
  {
   "cell_type": "code",
   "execution_count": 22,
   "id": "0f6c0fbd",
   "metadata": {},
   "outputs": [
    {
     "name": "stdout",
     "output_type": "stream",
     "text": [
      "[1]\tvalid_0's rmse: 384.345\tvalid_0's l2: 147721\n",
      "Training until validation scores don't improve for 20 rounds\n",
      "[2]\tvalid_0's rmse: 358.911\tvalid_0's l2: 128817\n",
      "[3]\tvalid_0's rmse: 335.373\tvalid_0's l2: 112475\n",
      "[4]\tvalid_0's rmse: 313.684\tvalid_0's l2: 98397.8\n",
      "[5]\tvalid_0's rmse: 293.568\tvalid_0's l2: 86182\n",
      "[6]\tvalid_0's rmse: 274.927\tvalid_0's l2: 75584.9\n",
      "[7]\tvalid_0's rmse: 257.655\tvalid_0's l2: 66386\n",
      "[8]\tvalid_0's rmse: 241.831\tvalid_0's l2: 58482.2\n",
      "[9]\tvalid_0's rmse: 227.193\tvalid_0's l2: 51616.5\n",
      "[10]\tvalid_0's rmse: 213.745\tvalid_0's l2: 45686.9\n",
      "[11]\tvalid_0's rmse: 201.395\tvalid_0's l2: 40559.9\n",
      "[12]\tvalid_0's rmse: 190.01\tvalid_0's l2: 36103.6\n",
      "[13]\tvalid_0's rmse: 179.658\tvalid_0's l2: 32276.8\n",
      "[14]\tvalid_0's rmse: 170.117\tvalid_0's l2: 28939.9\n",
      "[15]\tvalid_0's rmse: 161.371\tvalid_0's l2: 26040.5\n",
      "[16]\tvalid_0's rmse: 153.442\tvalid_0's l2: 23544.5\n",
      "[17]\tvalid_0's rmse: 146.187\tvalid_0's l2: 21370.6\n",
      "[18]\tvalid_0's rmse: 139.672\tvalid_0's l2: 19508.3\n",
      "[19]\tvalid_0's rmse: 133.766\tvalid_0's l2: 17893.2\n",
      "[20]\tvalid_0's rmse: 128.439\tvalid_0's l2: 16496.6\n",
      "[21]\tvalid_0's rmse: 123.661\tvalid_0's l2: 15292.1\n",
      "[22]\tvalid_0's rmse: 119.293\tvalid_0's l2: 14230.7\n",
      "[23]\tvalid_0's rmse: 115.335\tvalid_0's l2: 13302.3\n",
      "[24]\tvalid_0's rmse: 111.847\tvalid_0's l2: 12509.7\n",
      "[25]\tvalid_0's rmse: 108.735\tvalid_0's l2: 11823.4\n",
      "[26]\tvalid_0's rmse: 105.979\tvalid_0's l2: 11231.7\n",
      "[27]\tvalid_0's rmse: 103.534\tvalid_0's l2: 10719.3\n",
      "[28]\tvalid_0's rmse: 101.353\tvalid_0's l2: 10272.5\n",
      "[29]\tvalid_0's rmse: 99.3931\tvalid_0's l2: 9879\n",
      "[30]\tvalid_0's rmse: 97.6587\tvalid_0's l2: 9537.23\n",
      "[31]\tvalid_0's rmse: 96.1473\tvalid_0's l2: 9244.31\n",
      "[32]\tvalid_0's rmse: 94.8487\tvalid_0's l2: 8996.27\n",
      "[33]\tvalid_0's rmse: 93.6854\tvalid_0's l2: 8776.95\n",
      "[34]\tvalid_0's rmse: 92.6444\tvalid_0's l2: 8582.98\n",
      "[35]\tvalid_0's rmse: 91.7125\tvalid_0's l2: 8411.18\n",
      "[36]\tvalid_0's rmse: 90.9663\tvalid_0's l2: 8274.86\n",
      "[37]\tvalid_0's rmse: 90.2968\tvalid_0's l2: 8153.52\n",
      "[38]\tvalid_0's rmse: 89.7406\tvalid_0's l2: 8053.38\n",
      "[39]\tvalid_0's rmse: 89.197\tvalid_0's l2: 7956.11\n",
      "[40]\tvalid_0's rmse: 88.6926\tvalid_0's l2: 7866.38\n",
      "[41]\tvalid_0's rmse: 88.3013\tvalid_0's l2: 7797.12\n",
      "[42]\tvalid_0's rmse: 87.9445\tvalid_0's l2: 7734.24\n",
      "[43]\tvalid_0's rmse: 87.6176\tvalid_0's l2: 7676.84\n",
      "[44]\tvalid_0's rmse: 87.3374\tvalid_0's l2: 7627.82\n",
      "[45]\tvalid_0's rmse: 86.9908\tvalid_0's l2: 7567.41\n",
      "[46]\tvalid_0's rmse: 86.7118\tvalid_0's l2: 7518.94\n",
      "[47]\tvalid_0's rmse: 86.5077\tvalid_0's l2: 7483.58\n",
      "[48]\tvalid_0's rmse: 86.3478\tvalid_0's l2: 7455.95\n",
      "[49]\tvalid_0's rmse: 86.1816\tvalid_0's l2: 7427.27\n",
      "[50]\tvalid_0's rmse: 86.0002\tvalid_0's l2: 7396.03\n",
      "[51]\tvalid_0's rmse: 85.9083\tvalid_0's l2: 7380.24\n",
      "[52]\tvalid_0's rmse: 85.8077\tvalid_0's l2: 7362.97\n",
      "[53]\tvalid_0's rmse: 85.691\tvalid_0's l2: 7342.95\n",
      "[54]\tvalid_0's rmse: 85.6098\tvalid_0's l2: 7329.04\n",
      "[55]\tvalid_0's rmse: 85.5562\tvalid_0's l2: 7319.87\n",
      "[56]\tvalid_0's rmse: 85.4803\tvalid_0's l2: 7306.88\n",
      "[57]\tvalid_0's rmse: 85.3838\tvalid_0's l2: 7290.39\n",
      "[58]\tvalid_0's rmse: 85.2812\tvalid_0's l2: 7272.89\n",
      "[59]\tvalid_0's rmse: 85.2581\tvalid_0's l2: 7268.95\n",
      "[60]\tvalid_0's rmse: 85.1306\tvalid_0's l2: 7247.23\n",
      "[61]\tvalid_0's rmse: 85.0937\tvalid_0's l2: 7240.94\n",
      "[62]\tvalid_0's rmse: 85.1094\tvalid_0's l2: 7243.6\n",
      "[63]\tvalid_0's rmse: 85.0138\tvalid_0's l2: 7227.34\n",
      "[64]\tvalid_0's rmse: 84.9822\tvalid_0's l2: 7221.98\n",
      "[65]\tvalid_0's rmse: 84.9209\tvalid_0's l2: 7211.56\n",
      "[66]\tvalid_0's rmse: 84.9035\tvalid_0's l2: 7208.6\n",
      "[67]\tvalid_0's rmse: 84.8746\tvalid_0's l2: 7203.71\n",
      "[68]\tvalid_0's rmse: 84.8854\tvalid_0's l2: 7205.54\n",
      "[69]\tvalid_0's rmse: 84.878\tvalid_0's l2: 7204.27\n",
      "[70]\tvalid_0's rmse: 84.8728\tvalid_0's l2: 7203.39\n",
      "[71]\tvalid_0's rmse: 84.8358\tvalid_0's l2: 7197.12\n",
      "[72]\tvalid_0's rmse: 84.8198\tvalid_0's l2: 7194.4\n",
      "[73]\tvalid_0's rmse: 84.8204\tvalid_0's l2: 7194.5\n",
      "[74]\tvalid_0's rmse: 84.8259\tvalid_0's l2: 7195.44\n",
      "[75]\tvalid_0's rmse: 84.7931\tvalid_0's l2: 7189.88\n",
      "[76]\tvalid_0's rmse: 84.7681\tvalid_0's l2: 7185.64\n",
      "[77]\tvalid_0's rmse: 84.793\tvalid_0's l2: 7189.86\n",
      "[78]\tvalid_0's rmse: 84.7692\tvalid_0's l2: 7185.82\n",
      "[79]\tvalid_0's rmse: 84.7576\tvalid_0's l2: 7183.86\n",
      "[80]\tvalid_0's rmse: 84.7766\tvalid_0's l2: 7187.07\n",
      "[81]\tvalid_0's rmse: 84.7786\tvalid_0's l2: 7187.42\n",
      "[82]\tvalid_0's rmse: 84.7726\tvalid_0's l2: 7186.39\n",
      "[83]\tvalid_0's rmse: 84.7507\tvalid_0's l2: 7182.68\n",
      "[84]\tvalid_0's rmse: 84.7476\tvalid_0's l2: 7182.15\n",
      "[85]\tvalid_0's rmse: 84.742\tvalid_0's l2: 7181.21\n",
      "[86]\tvalid_0's rmse: 84.7397\tvalid_0's l2: 7180.82\n",
      "[87]\tvalid_0's rmse: 84.7298\tvalid_0's l2: 7179.14\n",
      "[88]\tvalid_0's rmse: 84.6634\tvalid_0's l2: 7167.89\n",
      "[89]\tvalid_0's rmse: 84.6579\tvalid_0's l2: 7166.95\n",
      "[90]\tvalid_0's rmse: 84.6519\tvalid_0's l2: 7165.94\n",
      "[91]\tvalid_0's rmse: 84.6489\tvalid_0's l2: 7165.43\n",
      "[92]\tvalid_0's rmse: 84.6343\tvalid_0's l2: 7162.97\n",
      "[93]\tvalid_0's rmse: 84.6361\tvalid_0's l2: 7163.27\n",
      "[94]\tvalid_0's rmse: 84.6202\tvalid_0's l2: 7160.58\n",
      "[95]\tvalid_0's rmse: 84.6368\tvalid_0's l2: 7163.38\n",
      "[96]\tvalid_0's rmse: 84.6263\tvalid_0's l2: 7161.61\n",
      "[97]\tvalid_0's rmse: 84.6325\tvalid_0's l2: 7162.66\n",
      "[98]\tvalid_0's rmse: 84.6406\tvalid_0's l2: 7164.02\n",
      "[99]\tvalid_0's rmse: 84.6396\tvalid_0's l2: 7163.86\n",
      "[100]\tvalid_0's rmse: 84.6167\tvalid_0's l2: 7159.99\n",
      "[101]\tvalid_0's rmse: 84.6155\tvalid_0's l2: 7159.78\n",
      "[102]\tvalid_0's rmse: 84.6245\tvalid_0's l2: 7161.3\n",
      "[103]\tvalid_0's rmse: 84.6377\tvalid_0's l2: 7163.53\n",
      "[104]\tvalid_0's rmse: 84.6305\tvalid_0's l2: 7162.32\n",
      "[105]\tvalid_0's rmse: 84.6299\tvalid_0's l2: 7162.22\n",
      "[106]\tvalid_0's rmse: 84.6261\tvalid_0's l2: 7161.58\n",
      "[107]\tvalid_0's rmse: 84.6236\tvalid_0's l2: 7161.16\n",
      "[108]\tvalid_0's rmse: 84.6162\tvalid_0's l2: 7159.89\n",
      "[109]\tvalid_0's rmse: 84.6315\tvalid_0's l2: 7162.49\n",
      "[110]\tvalid_0's rmse: 84.6456\tvalid_0's l2: 7164.88\n",
      "[111]\tvalid_0's rmse: 84.6449\tvalid_0's l2: 7164.75\n",
      "[112]\tvalid_0's rmse: 84.6273\tvalid_0's l2: 7161.78\n",
      "[113]\tvalid_0's rmse: 84.6295\tvalid_0's l2: 7162.16\n",
      "[114]\tvalid_0's rmse: 84.625\tvalid_0's l2: 7161.38\n",
      "[115]\tvalid_0's rmse: 84.613\tvalid_0's l2: 7159.37\n",
      "[116]\tvalid_0's rmse: 84.6094\tvalid_0's l2: 7158.75\n",
      "[117]\tvalid_0's rmse: 84.5966\tvalid_0's l2: 7156.58\n",
      "[118]\tvalid_0's rmse: 84.6158\tvalid_0's l2: 7159.83\n",
      "[119]\tvalid_0's rmse: 84.6182\tvalid_0's l2: 7160.24\n",
      "[120]\tvalid_0's rmse: 84.6254\tvalid_0's l2: 7161.46\n",
      "[121]\tvalid_0's rmse: 84.6192\tvalid_0's l2: 7160.4\n",
      "[122]\tvalid_0's rmse: 84.6271\tvalid_0's l2: 7161.75\n",
      "[123]\tvalid_0's rmse: 84.6142\tvalid_0's l2: 7159.56\n",
      "[124]\tvalid_0's rmse: 84.5988\tvalid_0's l2: 7156.95\n",
      "[125]\tvalid_0's rmse: 84.5955\tvalid_0's l2: 7156.39\n",
      "[126]\tvalid_0's rmse: 84.6008\tvalid_0's l2: 7157.29\n",
      "[127]\tvalid_0's rmse: 84.5988\tvalid_0's l2: 7156.96\n",
      "[128]\tvalid_0's rmse: 84.5839\tvalid_0's l2: 7154.43\n",
      "[129]\tvalid_0's rmse: 84.5884\tvalid_0's l2: 7155.19\n",
      "[130]\tvalid_0's rmse: 84.5811\tvalid_0's l2: 7153.97\n",
      "[131]\tvalid_0's rmse: 84.576\tvalid_0's l2: 7153.09\n",
      "[132]\tvalid_0's rmse: 84.5818\tvalid_0's l2: 7154.08\n",
      "[133]\tvalid_0's rmse: 84.5948\tvalid_0's l2: 7156.28\n",
      "[134]\tvalid_0's rmse: 84.5978\tvalid_0's l2: 7156.8\n",
      "[135]\tvalid_0's rmse: 84.6038\tvalid_0's l2: 7157.8\n",
      "[136]\tvalid_0's rmse: 84.6336\tvalid_0's l2: 7162.84\n",
      "[137]\tvalid_0's rmse: 84.635\tvalid_0's l2: 7163.09\n",
      "[138]\tvalid_0's rmse: 84.6389\tvalid_0's l2: 7163.74\n",
      "[139]\tvalid_0's rmse: 84.6488\tvalid_0's l2: 7165.42\n",
      "[140]\tvalid_0's rmse: 84.6457\tvalid_0's l2: 7164.89\n",
      "[141]\tvalid_0's rmse: 84.6395\tvalid_0's l2: 7163.84\n",
      "[142]\tvalid_0's rmse: 84.6305\tvalid_0's l2: 7162.32\n",
      "[143]\tvalid_0's rmse: 84.6273\tvalid_0's l2: 7161.77\n",
      "[144]\tvalid_0's rmse: 84.6325\tvalid_0's l2: 7162.66\n",
      "[145]\tvalid_0's rmse: 84.6271\tvalid_0's l2: 7161.75\n",
      "[146]\tvalid_0's rmse: 84.6164\tvalid_0's l2: 7159.93\n",
      "[147]\tvalid_0's rmse: 84.6167\tvalid_0's l2: 7159.98\n",
      "[148]\tvalid_0's rmse: 84.6214\tvalid_0's l2: 7160.79\n",
      "[149]\tvalid_0's rmse: 84.6205\tvalid_0's l2: 7160.63\n",
      "[150]\tvalid_0's rmse: 84.6177\tvalid_0's l2: 7160.16\n",
      "[151]\tvalid_0's rmse: 84.6278\tvalid_0's l2: 7161.86\n",
      "Early stopping, best iteration is:\n",
      "[131]\tvalid_0's rmse: 84.576\tvalid_0's l2: 7153.09\n"
     ]
    },
    {
     "data": {
      "text/plain": [
       "LGBMRegressor(learning_rate=0.07, max_depth=7, n_estimators=1000,\n",
       "              num_leaves=128, objective='regression')"
      ]
     },
     "execution_count": 22,
     "metadata": {},
     "output_type": "execute_result"
    }
   ],
   "source": [
    "gbm = LGBMRegressor(objective='regression',\n",
    "                        num_leaves=128, \n",
    "                        learning_rate=0.07, \n",
    "                        n_estimators=1000,\n",
    "                        max_depth=7)\n",
    "gbm.fit(train_data[unchange_data+insert_label], train_data['Patv'], \n",
    "        eval_set=[(val_data[unchange_data+insert_label], val_data['Patv'])], \n",
    "        eval_metric='rmse', early_stopping_rounds=20)"
   ]
  },
  {
   "cell_type": "code",
   "execution_count": 23,
   "id": "3495a7fe",
   "metadata": {},
   "outputs": [],
   "source": [
    "lag_queue_ID = {}\n",
    "for i in test_data.TurbID.unique():\n",
    "    lag_queue_ID[i] = []\n",
    "    for value in test_data[(test_data['time_idx']==1) & (test_data['TurbID']==i)][insert_label].values[0]:\n",
    "        lag_queue_ID[i].append(value)\n",
    "    \n",
    "\n",
    "predict_final = []\n",
    "for time_idx in range(1,285):\n",
    "    if time_idx==1:\n",
    "        predict = gbm.predict(test_data[test_data['time_idx']==time_idx][unchange_data+insert_label])\n",
    "        predict_final.append(predict)\n",
    "        for i in test_data.TurbID.unique():\n",
    "            lag_queue_ID[i].append(predict[i-1])\n",
    "    else:\n",
    "        lag_feature_list = []\n",
    "        for i in test_data.TurbID.unique():\n",
    "            lag_feature_list.append(lag_queue_ID[i][-lag_n:])\n",
    "        lag_df = pd.DataFrame(lag_feature_list,columns=insert_label)\n",
    "        new_data = pd.concat([test_data[test_data['time_idx']==time_idx][unchange_data].reset_index(drop=True),\n",
    "                              lag_df],axis=1)\n",
    "        predict = gbm.predict(new_data)\n",
    "        predict_final.append(predict)\n",
    "        for i in test_data.TurbID.unique():\n",
    "            lag_queue_ID[i].append(predict[i-1])"
   ]
  },
  {
   "cell_type": "markdown",
   "id": "55adb351",
   "metadata": {},
   "source": [
    "# predict_one"
   ]
  },
  {
   "cell_type": "code",
   "execution_count": 24,
   "id": "deffcc9a",
   "metadata": {},
   "outputs": [],
   "source": [
    "lag_queue_ID = {}\n",
    "for i in [1]:\n",
    "    lag_queue_ID[i] = []\n",
    "    for value in test_data[(test_data['time_idx']==1) & (test_data['TurbID']==i)][insert_label].values[0]:\n",
    "        lag_queue_ID[i].append(value)\n",
    "    \n",
    "\n",
    "predict_final = []\n",
    "for time_idx in range(1,289):\n",
    "    if time_idx==1:\n",
    "        predict = gbm.predict(test_data[(test_data['time_idx']==time_idx) & \n",
    "                                        (test_data['TurbID']==1)][unchange_data+insert_label])\n",
    "        predict_final.append(predict)\n",
    "        for i in [1]:\n",
    "            lag_queue_ID[i].append(predict[i-1])\n",
    "    else:\n",
    "        lag_feature_list = []\n",
    "        for i in [1]:\n",
    "            lag_feature_list.append(lag_queue_ID[i][-lag_n:])\n",
    "        lag_df = pd.DataFrame(lag_feature_list,columns=insert_label)\n",
    "        new_data = pd.concat([test_data[(test_data['time_idx']==time_idx) & \n",
    "                                        (test_data['TurbID']==1)][unchange_data].reset_index(drop=True),\n",
    "                              lag_df],axis=1)\n",
    "        predict = gbm.predict(new_data)\n",
    "        predict_final.append(predict)\n",
    "        for i in [1]:\n",
    "            lag_queue_ID[i].append(predict[i-1])"
   ]
  },
  {
   "cell_type": "code",
   "execution_count": 25,
   "id": "32b81ee5",
   "metadata": {},
   "outputs": [
    {
     "data": {
      "text/plain": [
       "288"
      ]
     },
     "execution_count": 25,
     "metadata": {},
     "output_type": "execute_result"
    }
   ],
   "source": [
    "time_idx"
   ]
  },
  {
   "cell_type": "code",
   "execution_count": 26,
   "id": "de6412f0",
   "metadata": {},
   "outputs": [
    {
     "data": {
      "text/html": [
       "<div>\n",
       "<style scoped>\n",
       "    .dataframe tbody tr th:only-of-type {\n",
       "        vertical-align: middle;\n",
       "    }\n",
       "\n",
       "    .dataframe tbody tr th {\n",
       "        vertical-align: top;\n",
       "    }\n",
       "\n",
       "    .dataframe thead th {\n",
       "        text-align: right;\n",
       "    }\n",
       "</style>\n",
       "<table border=\"1\" class=\"dataframe\">\n",
       "  <thead>\n",
       "    <tr style=\"text-align: right;\">\n",
       "      <th></th>\n",
       "      <th>TurbID</th>\n",
       "      <th>Day</th>\n",
       "      <th>Tmstamp</th>\n",
       "      <th>Patv</th>\n",
       "      <th>Wspd_lag_288</th>\n",
       "      <th>Wdir_lag_288</th>\n",
       "      <th>Etmp_lag_288</th>\n",
       "      <th>Itmp_lag_288</th>\n",
       "      <th>Ndir_lag_288</th>\n",
       "      <th>Pab1_lag_288</th>\n",
       "      <th>...</th>\n",
       "      <th>Patv_lag_42</th>\n",
       "      <th>Patv_lag_43</th>\n",
       "      <th>Patv_lag_44</th>\n",
       "      <th>Patv_lag_45</th>\n",
       "      <th>Patv_lag_46</th>\n",
       "      <th>Patv_lag_47</th>\n",
       "      <th>Patv_lag_48</th>\n",
       "      <th>Patv_lag_49</th>\n",
       "      <th>Patv_lag_50</th>\n",
       "      <th>time_idx</th>\n",
       "    </tr>\n",
       "  </thead>\n",
       "  <tbody>\n",
       "    <tr>\n",
       "      <th>287</th>\n",
       "      <td>1</td>\n",
       "      <td>245</td>\n",
       "      <td>23:50</td>\n",
       "      <td>174.58</td>\n",
       "      <td>12.73</td>\n",
       "      <td>-2.5</td>\n",
       "      <td>-8.41</td>\n",
       "      <td>17.03</td>\n",
       "      <td>388.95</td>\n",
       "      <td>8.75</td>\n",
       "      <td>...</td>\n",
       "      <td>NaN</td>\n",
       "      <td>NaN</td>\n",
       "      <td>NaN</td>\n",
       "      <td>NaN</td>\n",
       "      <td>NaN</td>\n",
       "      <td>NaN</td>\n",
       "      <td>NaN</td>\n",
       "      <td>NaN</td>\n",
       "      <td>NaN</td>\n",
       "      <td>288.0</td>\n",
       "    </tr>\n",
       "  </tbody>\n",
       "</table>\n",
       "<p>1 rows × 505 columns</p>\n",
       "</div>"
      ],
      "text/plain": [
       "     TurbID  Day Tmstamp    Patv  Wspd_lag_288  Wdir_lag_288  Etmp_lag_288  \\\n",
       "287       1  245   23:50  174.58         12.73          -2.5         -8.41   \n",
       "\n",
       "     Itmp_lag_288  Ndir_lag_288  Pab1_lag_288  ...  Patv_lag_42  Patv_lag_43  \\\n",
       "287         17.03        388.95          8.75  ...          NaN          NaN   \n",
       "\n",
       "     Patv_lag_44  Patv_lag_45  Patv_lag_46  Patv_lag_47  Patv_lag_48  \\\n",
       "287          NaN          NaN          NaN          NaN          NaN   \n",
       "\n",
       "     Patv_lag_49  Patv_lag_50  time_idx  \n",
       "287          NaN          NaN     288.0  \n",
       "\n",
       "[1 rows x 505 columns]"
      ]
     },
     "execution_count": 26,
     "metadata": {},
     "output_type": "execute_result"
    }
   ],
   "source": [
    "test_data[(test_data['time_idx']==288) & (test_data['TurbID']==1)]"
   ]
  },
  {
   "cell_type": "code",
   "execution_count": 29,
   "id": "db744de8",
   "metadata": {
    "scrolled": true
   },
   "outputs": [
    {
     "data": {
      "text/plain": [
       "<AxesSubplot:>"
      ]
     },
     "execution_count": 29,
     "metadata": {},
     "output_type": "execute_result"
    },
    {
     "data": {
      "image/png": "[encoded data removed]",
      "text/plain": [
       "<Figure size 432x288 with 1 Axes>"
      ]
     },
     "metadata": {
      "needs_background": "light"
     },
     "output_type": "display_data"
    }
   ],
   "source": [
    "turbid = 1\n",
    "predict_turb1 = [i[turbid-1] for i in predict_final]\n",
    "\n",
    "check_data = test_data[(test_data['TurbID']==turbid)][['Patv']]\n",
    "check_data['predict'] = predict_turb1\n",
    "\n",
    "check_data.plot()"
   ]
  },
  {
   "cell_type": "code",
   "execution_count": null,
   "id": "b5de0c63",
   "metadata": {},
   "outputs": [],
   "source": []
  }
 ],
 "metadata": {
  "kernelspec": {
   "display_name": "Python 3",
   "language": "python",
   "name": "python3"
  },
  "language_info": {
   "codemirror_mode": {
    "name": "ipython",
    "version": 3
   },
   "file_extension": ".py",
   "mimetype": "text/x-python",
   "name": "python",
   "nbconvert_exporter": "python",
   "pygments_lexer": "ipython3",
   "version": "3.7.4"
  }
 },
 "nbformat": 4,
 "nbformat_minor": 5
}
